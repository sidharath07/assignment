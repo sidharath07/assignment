{
 "cells": [
  {
   "cell_type": "code",
   "execution_count": 5,
   "id": "ff6db72f-31b8-4e25-ba6e-479a736aa8e8",
   "metadata": {},
   "outputs": [],
   "source": [
    "s = [1,2,3,4,[44,55,56,'true'],'false',(34,56,78,89,34), {1,2,3,3,2,1},{'l':34,\"key2\":[55,67,68,89],4:(45,22,61,34)},[56,'data science'],'machin learning']"
   ]
  },
  {
   "cell_type": "code",
   "execution_count": 6,
   "id": "2cd56778-a082-4a50-9445-84579e7f17cd",
   "metadata": {},
   "outputs": [
    {
     "data": {
      "text/plain": [
       "[1,\n",
       " 2,\n",
       " 3,\n",
       " 4,\n",
       " [44, 55, 56, 'true'],\n",
       " 'false',\n",
       " (34, 56, 78, 89, 34),\n",
       " {1, 2, 3},\n",
       " {'l': 34, 'key2': [55, 67, 68, 89], 4: (45, 22, 61, 34)},\n",
       " [56, 'data science'],\n",
       " 'machin learning']"
      ]
     },
     "execution_count": 6,
     "metadata": {},
     "output_type": "execute_result"
    }
   ],
   "source": [
    "s"
   ]
  },
  {
   "cell_type": "code",
   "execution_count": 29,
   "id": "f0c5a613-eb7f-4ba0-9e0a-c42a4cb717dd",
   "metadata": {},
   "outputs": [
    {
     "name": "stdout",
     "output_type": "stream",
     "text": [
      "1\n",
      "2\n",
      "3\n",
      "4\n",
      "[44, 55, 56, 'true']\n",
      "false\n",
      "(34, 56, 78, 89, 34)\n",
      "{1, 2, 3}\n",
      "{'l': 34, 'key2': [55, 67, 68, 89], 4: (45, 22, 61, 34)}\n",
      "[56, 'data science']\n",
      "machin learning\n"
     ]
    }
   ],
   "source": [
    "s1 = []\n",
    "for i in s:\n",
    "    print(i)\n",
    "    s1.append(i)"
   ]
  },
  {
   "cell_type": "code",
   "execution_count": 30,
   "id": "9b75ad2f-91c2-4fa1-86cc-4f0d176650e1",
   "metadata": {},
   "outputs": [
    {
     "data": {
      "text/plain": [
       "[1,\n",
       " 2,\n",
       " 3,\n",
       " 4,\n",
       " [44, 55, 56, 'true'],\n",
       " 'false',\n",
       " (34, 56, 78, 89, 34),\n",
       " {1, 2, 3},\n",
       " {'l': 34, 'key2': [55, 67, 68, 89], 4: (45, 22, 61, 34)},\n",
       " [56, 'data science'],\n",
       " 'machin learning']"
      ]
     },
     "execution_count": 30,
     "metadata": {},
     "output_type": "execute_result"
    }
   ],
   "source": [
    "list(s1)"
   ]
  },
  {
   "cell_type": "code",
   "execution_count": null,
   "id": "52c7ef75-18bf-40c9-8c15-72c4e1143b7e",
   "metadata": {},
   "outputs": [],
   "source": []
  }
 ],
 "metadata": {
  "kernelspec": {
   "display_name": "Python 3 (ipykernel)",
   "language": "python",
   "name": "python3"
  },
  "language_info": {
   "codemirror_mode": {
    "name": "ipython",
    "version": 3
   },
   "file_extension": ".py",
   "mimetype": "text/x-python",
   "name": "python",
   "nbconvert_exporter": "python",
   "pygments_lexer": "ipython3",
   "version": "3.10.8"
  }
 },
 "nbformat": 4,
 "nbformat_minor": 5
}
